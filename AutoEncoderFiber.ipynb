{
  "nbformat": 4,
  "nbformat_minor": 0,
  "metadata": {
    "colab": {
      "name": "AutoEncoderFibercopy.ipynb",
      "version": "0.3.2",
      "provenance": [],
      "collapsed_sections": [],
      "include_colab_link": true
    },
    "kernelspec": {
      "display_name": "Python 3",
      "language": "python",
      "name": "python3"
    }
  },
  "cells": [
    {
      "cell_type": "markdown",
      "metadata": {
        "id": "view-in-github",
        "colab_type": "text"
      },
      "source": [
        "<a href=\"https://colab.research.google.com/github/henkwymeersch/AutoencoderFiber/blob/master/AutoEncoderFiber.ipynb\" target=\"_parent\"><img src=\"https://colab.research.google.com/assets/colab-badge.svg\" alt=\"Open In Colab\"/></a>"
      ]
    },
    {
      "metadata": {
        "id": "GuDJI6Q5meSB",
        "colab_type": "text"
      },
      "cell_type": "markdown",
      "source": [
        "# Auto-encoder for a memoryless fiber-optic channel\n",
        "\n",
        "This script uses an auto-encoder (AE) for end-to-end learning of a non-linear memoryless fiber channel. The determines a good constellation and a good receiver. The achievable information rate is also computed. \n",
        "\n",
        "The system is of the form:\n",
        "$$\n",
        "x_{k+1}=x_k \\exp (j \\gamma L / K |x_k|^2) + n_k, k=0,..,K-1\n",
        "$$\n",
        "where $x_0$ is the input (a complex symbol), $\\gamma$ is the fiber nonlinearity parameter (typically around 1.2), $L$ is the fiber length, and $K$ is the number of amplification stages. The channel output is $x_K$. Finally, $n_k$ is white Gaussian noise. \n",
        "\n",
        "\n",
        "This code was is based on the paper\n",
        "\n",
        "Shen Li, Christian Häger, Nil Garcia, and Henk Wymeersch, \"Achievable Information Rates for Nonlinear Fiber Communication via End-to-end Autoencoder Learning,\" in *Proc. European Conference on Optical Communication* (2018) [arXiv:1804.07675](https://arxiv.org/pdf/1804.07675.pdf). \n",
        "\n",
        "The code was written by Christian Häger. Parts were provided by Shen Li. Integration and polishing by Henk Wymeersch. \n",
        "\n",
        "Remaining issues:\n",
        "*   returns NaN for too high input power\n",
        "\n",
        "\n"
      ]
    },
    {
      "metadata": {
        "id": "DTSyKzaDmeSN",
        "colab_type": "code",
        "colab": {}
      },
      "cell_type": "code",
      "source": [
        "import tensorflow as tf\n",
        "import numpy as np\n",
        "import matplotlib.pyplot as plt\n",
        "import scipy.io as sio\n",
        "import math\n",
        "import time\n",
        "import sys\n",
        "import matplotlib.cm as cm"
      ],
      "execution_count": 0,
      "outputs": []
    },
    {
      "metadata": {
        "id": "IzWYJH3lmeSp",
        "colab_type": "code",
        "colab": {}
      },
      "cell_type": "code",
      "source": [
        "def tf_print(tmp_var):\n",
        "    init = tf.global_variables_initializer()\n",
        "    sess = tf.Session()\n",
        "    sess.run(init)\n",
        "    print(sess.run(tmp_var))\n"
      ],
      "execution_count": 0,
      "outputs": []
    },
    {
      "metadata": {
        "id": "sQzoQ8lumeS3",
        "colab_type": "code",
        "colab": {}
      },
      "cell_type": "code",
      "source": [
        "## START: these are the main parameters to set\n",
        "P_in_dBm=-2              # input power in dBm\n",
        "gamma = 1.27            # fiber nonlinearity (set to 0 zero for AWGN or 1.27 for a nonlinear channel)\n",
        "M = 16                   # constellation size\n",
        "\n",
        "# main network parameters and optimization parameters (to be modified for performance improvements)\n",
        "neurons_per_layer = 50 \n",
        "tx_layers = 2\n",
        "rx_layers = 3\n",
        "learning_rate = 0.001\n",
        "iterations = 50000\n",
        "stacks = 20\n",
        "minibatch_size = stacks*M\n",
        "## END: these are the main parameters to set\n",
        "\n",
        "\n",
        "# derived channel parameters\n",
        "channel_uses = 2 # this should be 2: the fiber code will break otherwise\n",
        "assert(channel_uses==2), \"channel uses should be 2\"\n",
        "L=2000             # fiber total length\n",
        "K=20               # number of amplification stages (more layers requires more time)\n",
        "sigma = 3.8505e-4*np.sqrt(2)  # N0= h*v*nsp*(G-1) sigma**2 = BW*N0 \n",
        "sigma2tot=K*sigma**2\n",
        "P_in=10**(P_in_dBm/10)*0.001\n",
        "Ess=np.sqrt(P_in)\n",
        "SNR=Ess**2/(sigma2tot)\n",
        "SNR_dB=10*np.log(SNR)"
      ],
      "execution_count": 0,
      "outputs": []
    },
    {
      "metadata": {
        "id": "8RbjEuy4LNYG",
        "colab_type": "code",
        "colab": {}
      },
      "cell_type": "code",
      "source": [
        "#=====================================================#\n",
        "# Define the components of the computation graph\n",
        "#=====================================================#\n",
        "initializer = tf.contrib.layers.xavier_initializer()\n",
        "# transmitter\n",
        "W_tx = {}\n",
        "b_tx = {}\n",
        "for NN in range(tx_layers):\n",
        "    if NN == 0:\n",
        "        in_neurons = M\n",
        "    else:\n",
        "        in_neurons = neurons_per_layer\n",
        "    if NN == tx_layers - 1:\n",
        "        out_neurons = channel_uses\n",
        "    else:\n",
        "        out_neurons = neurons_per_layer\n",
        "    W_tx[NN] = tf.Variable(initializer([in_neurons, out_neurons]))\n",
        "    b_tx[NN] = tf.Variable(initializer([1, out_neurons]))\n",
        "        \n",
        "# receiver\n",
        "W_rx = {}\n",
        "b_rx = {}\n",
        "for NN in range(rx_layers):\n",
        "    if NN == 0:\n",
        "        in_neurons = channel_uses+1\n",
        "    else:\n",
        "        in_neurons = neurons_per_layer\n",
        "    if NN == rx_layers - 1:\n",
        "        out_neurons = M\n",
        "    else:\n",
        "        out_neurons = neurons_per_layer\n",
        "    W_rx[NN] = tf.Variable(initializer([in_neurons, out_neurons]))\n",
        "    b_rx[NN] = tf.Variable(initializer([1, out_neurons]))  \n",
        "\n",
        "# the encoder\n",
        "def encoder(x):\n",
        "    for NN in range(tx_layers-1):\n",
        "        x = tf.nn.tanh(tf.matmul(x, W_tx[NN]) + b_tx[NN])\n",
        "    x = tf.matmul(x, W_tx[tx_layers-1]) + b_tx[tx_layers-1]\n",
        "    return x\n",
        "\n",
        "# the decoder\n",
        "def decoder(x):\n",
        "    for NN in range(rx_layers-1):\n",
        "        x = tf.nn.tanh(tf.matmul(x, W_rx[NN]) + b_rx[NN])\n",
        "    x = tf.nn.softmax(tf.matmul(x, W_rx[rx_layers-1]) + b_rx[rx_layers-1])\n",
        "    return x\n",
        "\n",
        "# the non-dispersive fiber channel  \n",
        "def fiber_channel(x):\n",
        "    xr=x[:,0]\n",
        "    xi=x[:,1]\n",
        "    for segments in range(1,K+1):               \n",
        "        s=gamma*(xr**2+xi**2)*L/K        \n",
        "        xr=xr*tf.cos(s)-xi*tf.sin(s)\n",
        "        xi=xi*tf.cos(s)+xr*tf.sin(s)\n",
        "        xr=tf.add(xr,tf.random_normal(tf.shape(xr), mean=0.0, stddev=sigma))\n",
        "        xi=tf.add(xi,tf.random_normal(tf.shape(xi), mean=0.0, stddev=sigma)) \n",
        "    z=tf.stack([xr,xi,xr**2+xi**2]) \n",
        "    z=tf.transpose(z) \n",
        "    return z\n",
        "\n",
        "# average transmit power constraint\n",
        "def normalization(x): # E[|x|^2] = Es\n",
        "    return Ess*x / tf.sqrt(2*tf.reduce_mean(tf.square(x)))"
      ],
      "execution_count": 0,
      "outputs": []
    },
    {
      "metadata": {
        "id": "_rlBVxfWmeTH",
        "colab_type": "code",
        "colab": {}
      },
      "cell_type": "code",
      "source": [
        "#=====================================================#\n",
        "# build the computation graph\n",
        "#=====================================================#\n",
        "X_tilde = tf.placeholder('float', [minibatch_size, M]) # one-hot vectors\n",
        "\n",
        "#grid coordinates for visulazing decision regions\n",
        "resolution=1000\n",
        "G = tf.placeholder('float', [resolution**2, channel_uses+1])\n",
        "\n",
        "X1=encoder(X_tilde)\n",
        "X = normalization(X1) # minibatch_size x channel_uses\n",
        "Y = fiber_channel(X)\n",
        "Z = decoder(Y)\n",
        "D = decoder(G)\n",
        "epsilon = 0.000001\n",
        "loss = -tf.reduce_mean(X_tilde*tf.log(Z+epsilon))\n",
        "MI=(np.log(M)-loss*M)/np.log(2)\n",
        "optimizer = tf.train.AdamOptimizer(learning_rate)\n",
        "train = optimizer.minimize(loss)"
      ],
      "execution_count": 0,
      "outputs": []
    },
    {
      "metadata": {
        "id": "cYP38e2pmeTa",
        "colab_type": "code",
        "outputId": "fd6864b6-6478-4bba-8b1a-99fb70d925e8",
        "colab": {
          "base_uri": "https://localhost:8080/",
          "height": 920
        }
      },
      "cell_type": "code",
      "source": [
        "#=====================================================#\n",
        "# parameter training\n",
        "#=====================================================#\n",
        "start_time = time.time()\n",
        "unitmatrix = np.eye(M)  \n",
        "training_set = np.tile(unitmatrix, [stacks, 1])\n",
        "init_op = tf.global_variables_initializer()\n",
        "sess = tf.Session()\n",
        "sess.run(init_op)\n",
        "MI_tmp=0\n",
        "totalloss=[]\n",
        "for i in range(1, iterations+1):\n",
        "    _, loss_tmp, MI_tmp = sess.run([train, loss, MI], feed_dict={X_tilde: training_set})\n",
        "    totalloss=np.append(totalloss, loss_tmp)\n",
        "    if i%1000==0 or i==1:\n",
        "        print('iteration ', i, ': loss = ', loss_tmp, '; Mutual information [bits] = ', MI_tmp)        \n",
        "elapsed = time.time() - start_time\n",
        "print(\"{0:.2f} seconds\".format(elapsed))"
      ],
      "execution_count": 6,
      "outputs": [
        {
          "output_type": "stream",
          "text": [
            "iteration  1 : loss =  0.17885368 ; Mutual information [bits] =  -0.12850097\n",
            "iteration  1000 : loss =  0.028006202 ; Mutual information [bits] =  3.3535295\n",
            "iteration  2000 : loss =  0.011281811 ; Mutual information [bits] =  3.7395804\n",
            "iteration  3000 : loss =  0.0055578933 ; Mutual information [bits] =  3.8717065\n",
            "iteration  4000 : loss =  0.005900917 ; Mutual information [bits] =  3.8637884\n",
            "iteration  5000 : loss =  0.004730115 ; Mutual information [bits] =  3.890814\n",
            "iteration  6000 : loss =  0.005254518 ; Mutual information [bits] =  3.878709\n",
            "iteration  7000 : loss =  0.0032975976 ; Mutual information [bits] =  3.923881\n",
            "iteration  8000 : loss =  0.0026089507 ; Mutual information [bits] =  3.9397771\n",
            "iteration  9000 : loss =  0.001929207 ; Mutual information [bits] =  3.9554677\n",
            "iteration  10000 : loss =  0.0034735291 ; Mutual information [bits] =  3.9198198\n",
            "iteration  11000 : loss =  0.0020205784 ; Mutual information [bits] =  3.9533587\n",
            "iteration  12000 : loss =  0.0019302426 ; Mutual information [bits] =  3.955444\n",
            "iteration  13000 : loss =  0.0027602636 ; Mutual information [bits] =  3.9362845\n",
            "iteration  14000 : loss =  0.001349867 ; Mutual information [bits] =  3.9688408\n",
            "iteration  15000 : loss =  0.0029932146 ; Mutual information [bits] =  3.9309072\n",
            "iteration  16000 : loss =  0.0007508879 ; Mutual information [bits] =  3.9826672\n",
            "iteration  17000 : loss =  0.0019698858 ; Mutual information [bits] =  3.9545288\n",
            "iteration  18000 : loss =  0.0018588252 ; Mutual information [bits] =  3.9570923\n",
            "iteration  19000 : loss =  0.0028716298 ; Mutual information [bits] =  3.9337137\n",
            "iteration  20000 : loss =  0.002332374 ; Mutual information [bits] =  3.9461615\n",
            "iteration  21000 : loss =  0.00052453595 ; Mutual information [bits] =  3.9878922\n",
            "iteration  22000 : loss =  0.0005966529 ; Mutual information [bits] =  3.9862273\n",
            "iteration  23000 : loss =  0.00065423944 ; Mutual information [bits] =  3.984898\n",
            "iteration  24000 : loss =  0.0022190292 ; Mutual information [bits] =  3.9487777\n",
            "iteration  25000 : loss =  0.0005131921 ; Mutual information [bits] =  3.9881537\n",
            "iteration  26000 : loss =  0.001012143 ; Mutual information [bits] =  3.9766364\n",
            "iteration  27000 : loss =  0.0011796795 ; Mutual information [bits] =  3.9727693\n",
            "iteration  28000 : loss =  0.0016018931 ; Mutual information [bits] =  3.9630234\n",
            "iteration  29000 : loss =  0.0016618859 ; Mutual information [bits] =  3.9616385\n",
            "iteration  30000 : loss =  0.00021583195 ; Mutual information [bits] =  3.995018\n",
            "iteration  31000 : loss =  0.0019067747 ; Mutual information [bits] =  3.9559858\n",
            "iteration  32000 : loss =  0.0012141239 ; Mutual information [bits] =  3.9719744\n",
            "iteration  33000 : loss =  0.0009799392 ; Mutual information [bits] =  3.9773798\n",
            "iteration  34000 : loss =  0.0015597316 ; Mutual information [bits] =  3.9639964\n",
            "iteration  35000 : loss =  0.0021589745 ; Mutual information [bits] =  3.9501643\n",
            "iteration  36000 : loss =  0.0018438756 ; Mutual information [bits] =  3.9574378\n",
            "iteration  37000 : loss =  0.0011696611 ; Mutual information [bits] =  3.9730003\n",
            "iteration  38000 : loss =  0.0013336143 ; Mutual information [bits] =  3.969216\n",
            "iteration  39000 : loss =  0.00085040426 ; Mutual information [bits] =  3.9803698\n",
            "iteration  40000 : loss =  0.0018855694 ; Mutual information [bits] =  3.9564753\n",
            "iteration  41000 : loss =  0.0006585914 ; Mutual information [bits] =  3.9847977\n",
            "iteration  42000 : loss =  0.0019125761 ; Mutual information [bits] =  3.9558516\n",
            "iteration  43000 : loss =  0.0027832282 ; Mutual information [bits] =  3.9357545\n",
            "iteration  44000 : loss =  0.000286943 ; Mutual information [bits] =  3.9933765\n",
            "iteration  45000 : loss =  0.0020027482 ; Mutual information [bits] =  3.9537704\n",
            "iteration  46000 : loss =  0.001009146 ; Mutual information [bits] =  3.9767056\n",
            "iteration  47000 : loss =  0.0018047865 ; Mutual information [bits] =  3.95834\n",
            "iteration  48000 : loss =  0.0005892061 ; Mutual information [bits] =  3.9863992\n",
            "iteration  49000 : loss =  0.002877311 ; Mutual information [bits] =  3.9335828\n",
            "iteration  50000 : loss =  0.0008200977 ; Mutual information [bits] =  3.9810696\n",
            "132.48 seconds\n"
          ],
          "name": "stdout"
        }
      ]
    },
    {
      "metadata": {
        "id": "jasr9ooGmeTw",
        "colab_type": "code",
        "outputId": "6da1268b-b77f-4168-eef8-338c2a80d7cf",
        "colab": {
          "base_uri": "https://localhost:8080/",
          "height": 660
        }
      },
      "cell_type": "code",
      "source": [
        "#=====================================================#\n",
        "# Visualization\n",
        "#=====================================================#\n",
        "#x,y grids\n",
        "x = np.arange(-0.1, 0.1, 0.0002)\n",
        "xx, yy = np.meshgrid(x, x)\n",
        "xg = xx.reshape(1000000,1)\n",
        "yg = yy.reshape(1000000,1)\n",
        "r = xg**2+yg**2\n",
        "xygrids = np.concatenate((xg, yg, r), axis=1)\n",
        "\n",
        "\n",
        "[constellation,receive_points,decision_regions] = sess.run([X,Y,D],feed_dict={X_tilde:training_set, G: xygrids})\n",
        "x = constellation[:, 0]\n",
        "y = constellation[:, 1]\n",
        "\n",
        "receive_x = receive_points[:, 0]\n",
        "receive_y = receive_points[:, 1]\n",
        "\n",
        "# plotting\n",
        "fig=plt.figure(figsize=(7, 7))\n",
        "ax = fig.add_subplot(2, 1, 1)\n",
        "plt.plot(totalloss)\n",
        "plt.xlabel('iteration')\n",
        "plt.ylabel('loss')\n",
        "\n",
        "fig = plt.figure(figsize=(7, 7))\n",
        "ax1 = fig.add_subplot(111)\n",
        "plt.xlabel('X')\n",
        "plt.ylabel('Y')\n",
        "ax1.scatter(x, y, c='b', marker='o')\n",
        "plt.axis('equal')\n",
        "xmax = max(abs(x))\n",
        "ymax = max(abs(y))\n",
        "max_axis = 1.2 * max(xmax, ymax)\n",
        "plt.xlim(-max_axis, max_axis)\n",
        "plt.ylim(-max_axis, max_axis)\n",
        "plt.show()\n"
      ],
      "execution_count": 7,
      "outputs": [
        {
          "output_type": "display_data",
          "data": {
            "image/png": "[encoded data removed]",
            "text/plain": [
              "<matplotlib.figure.Figure at 0x7f8dc0237908>"
            ]
          },
          "metadata": {
            "tags": []
          }
        },
        {
          "output_type": "display_data",
          "data": {
            "image/png": "[encoded data removed]",
            "text/plain": [
              "<matplotlib.figure.Figure at 0x7f8dbb7f19b0>"
            ]
          },
          "metadata": {
            "tags": []
          }
        }
      ]
    },
    {
      "metadata": {
        "id": "ATtx6VedmeUY",
        "colab_type": "code",
        "outputId": "72aa76c9-3f60-4307-cc85-8e1ac55cbedb",
        "colab": {
          "base_uri": "https://localhost:8080/",
          "height": 428
        }
      },
      "cell_type": "code",
      "source": [
        "#=====================================================#\n",
        "# Decision regions\n",
        "#=====================================================#\n",
        "import matplotlib.cm as cm\n",
        "fig=plt.figure(figsize=(7, 7))\n",
        "plt.xlim(-max_axis, max_axis)\n",
        "plt.ylim(-max_axis, max_axis)\n",
        "z = np.argmax(decision_regions, axis=1).reshape(1000, 1000)\n",
        "plt.pcolormesh(xx, yy, z)\n",
        "cmap = cm.rainbow(np.linspace(0.0, 1.0, M))\n",
        "\n",
        "for k in range(minibatch_size):\n",
        "  index = k % M\n",
        "  plt.scatter(receive_x[k], receive_y[k], c=cmap[index], marker='.',s=50)\n",
        "\n",
        "plt.show()"
      ],
      "execution_count": 8,
      "outputs": [
        {
          "output_type": "display_data",
          "data": {
            "image/png": "[encoded data removed]",
            "text/plain": [
              "<matplotlib.figure.Figure at 0x7f8dbe98f2b0>"
            ]
          },
          "metadata": {
            "tags": []
          }
        }
      ]
    }
  ]
}