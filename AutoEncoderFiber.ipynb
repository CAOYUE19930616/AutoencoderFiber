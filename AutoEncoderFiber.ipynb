{
  "nbformat": 4,
  "nbformat_minor": 0,
  "metadata": {
    "colab": {
      "name": "AutoEncoderFibercopy.ipynb",
      "version": "0.3.2",
      "provenance": [],
      "collapsed_sections": [],
      "include_colab_link": true
    },
    "kernelspec": {
      "display_name": "Python 3",
      "language": "python",
      "name": "python3"
    }
  },
  "cells": [
    {
      "cell_type": "markdown",
      "metadata": {
        "id": "view-in-github",
        "colab_type": "text"
      },
      "source": [
        "<a href=\"https://colab.research.google.com/github/henkwymeersch/AutoencoderFiber/blob/master/AutoEncoderFiber.ipynb\" target=\"_parent\"><img src=\"https://colab.research.google.com/assets/colab-badge.svg\" alt=\"Open In Colab\"/></a>"
      ]
    },
    {
      "metadata": {
        "id": "GuDJI6Q5meSB",
        "colab_type": "text"
      },
      "cell_type": "markdown",
      "source": [
        "# Auto-encoder for a memoryless fiber-optic channel\n",
        "\n",
        "This script uses an auto-encoder (AE) for end-to-end learning of a non-linear memoryless fiber channel. The determines a good constellation and a good receiver. The achievable information rate is also computed. \n",
        "\n",
        "The system is of the form:\n",
        "$$\n",
        "x_{k+1}=x_k \\exp (j \\gamma L / K |x_k|^2) + n_k, k=0,..,K-1\n",
        "$$\n",
        "where $x_0$ is the input (a complex symbol), $\\gamma$ is the fiber nonlinearity parameter (typically around 1.2), $L$ is the fiber length, and $K$ is the number of amplification stages. The channel output is $x_K$. Finally, $n_k$ is white Gaussian noise. \n",
        "\n",
        "\n",
        "This code was is based on the paper\n",
        "\n",
        "Shen Li, Christian Häger, Nil Garcia, and Henk Wymeersch, \"Achievable Information Rates for Nonlinear Fiber Communication via End-to-end Autoencoder Learning,\" in *Proc. European Conference on Optical Communication* (2018) [arXiv:1804.07675](https://arxiv.org/pdf/1804.07675.pdf). \n",
        "\n",
        "The code was written by Christian Häger. Parts were provided by Shen Li. Integration and polishing by Henk Wymeersch. \n",
        "\n",
        "Remaining issues:\n",
        "*   returns NaN for too high input power\n",
        "\n",
        "\n"
      ]
    },
    {
      "metadata": {
        "id": "DTSyKzaDmeSN",
        "colab_type": "code",
        "colab": {}
      },
      "cell_type": "code",
      "source": [
        "import tensorflow as tf\n",
        "import numpy as np\n",
        "import matplotlib.pyplot as plt\n",
        "import scipy.io as sio\n",
        "import math\n",
        "import time\n",
        "import sys\n",
        "import matplotlib.cm as cm"
      ],
      "execution_count": 0,
      "outputs": []
    },
    {
      "metadata": {
        "id": "IzWYJH3lmeSp",
        "colab_type": "code",
        "colab": {}
      },
      "cell_type": "code",
      "source": [
        "def tf_print(tmp_var):\n",
        "    init = tf.global_variables_initializer()\n",
        "    sess = tf.Session()\n",
        "    sess.run(init)\n",
        "    print(sess.run(tmp_var))\n"
      ],
      "execution_count": 0,
      "outputs": []
    },
    {
      "metadata": {
        "id": "sQzoQ8lumeS3",
        "colab_type": "code",
        "outputId": "27fb32ca-f69d-4404-99e2-006cbb1ffb6f",
        "colab": {
          "base_uri": "https://localhost:8080/",
          "height": 34
        }
      },
      "cell_type": "code",
      "source": [
        "## START: these are the main parameters to set\n",
        "P_in_dBm=-5              # input power in dBm\n",
        "gamma = 1.27            # fiber nonlinearity (set to 0 zero for AWGN or 1.27 for a nonlinear channel)\n",
        "M = 16                   # constellation size\n",
        "\n",
        "# main network parameters and optimization parameters (to be modified for performance improvements)\n",
        "neurons_per_layer = 50 \n",
        "tx_layers = 2\n",
        "rx_layers = 3\n",
        "learning_rate = 0.001\n",
        "iterations = 50000\n",
        "stacks = 20\n",
        "minibatch_size = stacks*M\n",
        "## END: these are the main parameters to set\n",
        "\n",
        "\n",
        "# derived channel parameters\n",
        "channel_uses = 2 # this should be 2: the fiber code will break otherwise\n",
        "assert(channel_uses==2), \"channel uses should be 2\"\n",
        "L=2000             # fiber total length\n",
        "K=20               # number of amplification stages (more layers requires more time)\n",
        "sigma = 3.8505e-4*np.sqrt(2)  # N0= h*v*nsp*(G-1) sigma**2 = BW*N0 \n",
        "sigma2tot=K*sigma**2\n",
        "P_in=10**(P_in_dBm/10)*0.001\n",
        "Ess=np.sqrt(P_in)\n",
        "SNR=Ess**2/(sigma2tot)\n",
        "SNR_dB=10*np.log(SNR)\n",
        "print(SNR_dB)"
      ],
      "execution_count": 0,
      "outputs": [
        {
          "output_type": "stream",
          "text": [
            "39.763474443649336\n"
          ],
          "name": "stdout"
        }
      ]
    },
    {
      "metadata": {
        "id": "8RbjEuy4LNYG",
        "colab_type": "code",
        "colab": {}
      },
      "cell_type": "code",
      "source": [
        "#=====================================================#\n",
        "# Define the components of the computation graph\n",
        "#=====================================================#\n",
        "initializer = tf.contrib.layers.xavier_initializer()\n",
        "# transmitter\n",
        "W_tx = {}\n",
        "b_tx = {}\n",
        "for NN in range(tx_layers):\n",
        "    if NN == 0:\n",
        "        in_neurons = M\n",
        "    else:\n",
        "        in_neurons = neurons_per_layer\n",
        "    if NN == tx_layers - 1:\n",
        "        out_neurons = channel_uses\n",
        "    else:\n",
        "        out_neurons = neurons_per_layer\n",
        "    W_tx[NN] = tf.Variable(initializer([in_neurons, out_neurons]))\n",
        "    b_tx[NN] = tf.Variable(initializer([1, out_neurons]))\n",
        "        \n",
        "# receiver\n",
        "W_rx = {}\n",
        "b_rx = {}\n",
        "for NN in range(rx_layers):\n",
        "    if NN == 0:\n",
        "        in_neurons = channel_uses+1\n",
        "    else:\n",
        "        in_neurons = neurons_per_layer\n",
        "    if NN == rx_layers - 1:\n",
        "        out_neurons = M\n",
        "    else:\n",
        "        out_neurons = neurons_per_layer\n",
        "    W_rx[NN] = tf.Variable(initializer([in_neurons, out_neurons]))\n",
        "    b_rx[NN] = tf.Variable(initializer([1, out_neurons]))  \n",
        "\n",
        "# the encoder\n",
        "def encoder(x):\n",
        "    for NN in range(tx_layers-1):\n",
        "        x = tf.nn.tanh(tf.matmul(x, W_tx[NN]) + b_tx[NN])\n",
        "    x = tf.matmul(x, W_tx[tx_layers-1]) + b_tx[tx_layers-1]\n",
        "    return x\n",
        "\n",
        "# the decoder\n",
        "def decoder(x):\n",
        "    for NN in range(rx_layers-1):\n",
        "        x = tf.nn.tanh(tf.matmul(x, W_rx[NN]) + b_rx[NN])\n",
        "    x = tf.nn.softmax(tf.matmul(x, W_rx[rx_layers-1]) + b_rx[rx_layers-1])\n",
        "    return x\n",
        "\n",
        "# the non-dispersive fiber channel  \n",
        "def fiber_channel(x):\n",
        "    xr=x[:,0]\n",
        "    xi=x[:,1]\n",
        "    for segments in range(1,K+1):               \n",
        "        s=gamma*(xr**2+xi**2)*L/K        \n",
        "        xr=xr*tf.cos(s)-xi*tf.sin(s)\n",
        "        xi=xi*tf.cos(s)+xr*tf.sin(s)\n",
        "        xr=tf.add(xr,tf.random_normal(tf.shape(xr), mean=0.0, stddev=sigma))\n",
        "        xi=tf.add(xi,tf.random_normal(tf.shape(xi), mean=0.0, stddev=sigma)) \n",
        "    z=tf.stack([xr,xi,xr**2+xi**2]) \n",
        "    z=tf.transpose(z) \n",
        "    return z\n",
        "\n",
        "# average transmit power constraint\n",
        "def normalization(x): # E[|x|^2] = Es\n",
        "    return Ess*x / tf.sqrt(2*tf.reduce_mean(tf.square(x)))"
      ],
      "execution_count": 0,
      "outputs": []
    },
    {
      "metadata": {
        "id": "_rlBVxfWmeTH",
        "colab_type": "code",
        "colab": {}
      },
      "cell_type": "code",
      "source": [
        "#=====================================================#\n",
        "# build the computation graph\n",
        "#=====================================================#\n",
        "X_tilde = tf.placeholder('float', [minibatch_size, M]) # one-hot vectors\n",
        "\n",
        "#grid coordinates for visulazing decision regions\n",
        "resolution=1000\n",
        "G = tf.placeholder('float', [resolution**2, channel_uses+1])\n",
        "\n",
        "X1=encoder(X_tilde)\n",
        "X = normalization(X1) # minibatch_size x channel_uses\n",
        "Y = fiber_channel(X)\n",
        "Z = decoder(Y)\n",
        "D = decoder(G)\n",
        "epsilon = 0.000001\n",
        "loss = -tf.reduce_mean(X_tilde*tf.log(Z+epsilon))\n",
        "MI=(np.log(M)-loss)/np.log(2)\n",
        "optimizer = tf.train.AdamOptimizer(learning_rate)\n",
        "train = optimizer.minimize(loss)"
      ],
      "execution_count": 0,
      "outputs": []
    },
    {
      "metadata": {
        "id": "cYP38e2pmeTa",
        "colab_type": "code",
        "outputId": "ab7f77df-f3c3-4615-f604-de4ce92f156a",
        "colab": {
          "base_uri": "https://localhost:8080/",
          "height": 901
        }
      },
      "cell_type": "code",
      "source": [
        "#=====================================================#\n",
        "# parameter training\n",
        "#=====================================================#\n",
        "start_time = time.time()\n",
        "unitmatrix = np.eye(M)  \n",
        "training_set = np.tile(unitmatrix, [stacks, 1])\n",
        "init_op = tf.global_variables_initializer()\n",
        "sess = tf.Session()\n",
        "sess.run(init_op)\n",
        "MI_tmp=0\n",
        "totalloss=[]\n",
        "for i in range(1, iterations+1):\n",
        "    _, loss_tmp, MI_tmp = sess.run([train, loss, MI], feed_dict={X_tilde: training_set})\n",
        "    totalloss=np.append(totalloss, loss_tmp)\n",
        "    if i%1000==0 or i==1:\n",
        "        print('iteration ', i, ': loss = ', loss_tmp, '; Mutual information [bits] = ', MI_tmp)        \n",
        "elapsed = time.time() - start_time\n",
        "print(\"{0:.2f} seconds\".format(elapsed))"
      ],
      "execution_count": 0,
      "outputs": [
        {
          "output_type": "stream",
          "text": [
            "iteration  1 : loss =  0.177699 ; Mutual information [bits] =  3.7436345\n",
            "iteration  1000 : loss =  0.071165904 ; Mutual information [bits] =  3.8973293\n",
            "iteration  2000 : loss =  0.056584693 ; Mutual information [bits] =  3.9183657\n",
            "iteration  3000 : loss =  0.052754115 ; Mutual information [bits] =  3.9238918\n",
            "iteration  4000 : loss =  0.049279757 ; Mutual information [bits] =  3.9289043\n",
            "iteration  5000 : loss =  0.05283915 ; Mutual information [bits] =  3.9237692\n",
            "iteration  6000 : loss =  0.047085017 ; Mutual information [bits] =  3.9320705\n",
            "iteration  7000 : loss =  0.020928716 ; Mutual information [bits] =  3.9698064\n",
            "iteration  8000 : loss =  0.010570017 ; Mutual information [bits] =  3.9847505\n",
            "iteration  9000 : loss =  0.010325814 ; Mutual information [bits] =  3.985103\n",
            "iteration  10000 : loss =  0.010116055 ; Mutual information [bits] =  3.9854054\n",
            "iteration  11000 : loss =  0.011145601 ; Mutual information [bits] =  3.9839203\n",
            "iteration  12000 : loss =  0.006880828 ; Mutual information [bits] =  3.9900732\n",
            "iteration  13000 : loss =  0.010616677 ; Mutual information [bits] =  3.9846833\n",
            "iteration  14000 : loss =  0.01148736 ; Mutual information [bits] =  3.9834273\n",
            "iteration  15000 : loss =  0.0075865267 ; Mutual information [bits] =  3.989055\n",
            "iteration  16000 : loss =  0.010939257 ; Mutual information [bits] =  3.984218\n",
            "iteration  17000 : loss =  0.0120735485 ; Mutual information [bits] =  3.9825816\n",
            "iteration  18000 : loss =  0.004944815 ; Mutual information [bits] =  3.992866\n",
            "iteration  19000 : loss =  0.008972049 ; Mutual information [bits] =  3.9870558\n",
            "iteration  20000 : loss =  0.0056519443 ; Mutual information [bits] =  3.9918458\n",
            "iteration  21000 : loss =  0.007896677 ; Mutual information [bits] =  3.9886074\n",
            "iteration  22000 : loss =  0.008677334 ; Mutual information [bits] =  3.9874814\n",
            "iteration  23000 : loss =  0.0062472587 ; Mutual information [bits] =  3.990987\n",
            "iteration  24000 : loss =  0.008291012 ; Mutual information [bits] =  3.9880385\n",
            "iteration  25000 : loss =  0.0058863973 ; Mutual information [bits] =  3.9915078\n",
            "iteration  26000 : loss =  0.008796914 ; Mutual information [bits] =  3.9873087\n",
            "iteration  27000 : loss =  0.0076811807 ; Mutual information [bits] =  3.9889185\n",
            "iteration  28000 : loss =  0.009718543 ; Mutual information [bits] =  3.9859788\n",
            "iteration  29000 : loss =  0.0038909689 ; Mutual information [bits] =  3.9943864\n",
            "iteration  30000 : loss =  0.0045412406 ; Mutual information [bits] =  3.9934485\n",
            "iteration  31000 : loss =  0.0065457374 ; Mutual information [bits] =  3.9905565\n",
            "iteration  32000 : loss =  0.004448469 ; Mutual information [bits] =  3.9935822\n",
            "iteration  33000 : loss =  0.005837378 ; Mutual information [bits] =  3.9915783\n",
            "iteration  34000 : loss =  0.005327262 ; Mutual information [bits] =  3.9923143\n",
            "iteration  35000 : loss =  0.004420767 ; Mutual information [bits] =  3.993622\n",
            "iteration  36000 : loss =  0.006935686 ; Mutual information [bits] =  3.989994\n",
            "iteration  37000 : loss =  0.006476818 ; Mutual information [bits] =  3.990656\n",
            "iteration  38000 : loss =  0.0043112068 ; Mutual information [bits] =  3.9937801\n",
            "iteration  39000 : loss =  0.0055031413 ; Mutual information [bits] =  3.9920607\n",
            "iteration  40000 : loss =  0.010036546 ; Mutual information [bits] =  3.9855204\n",
            "iteration  41000 : loss =  0.00786866 ; Mutual information [bits] =  3.9886477\n",
            "iteration  42000 : loss =  0.0077618994 ; Mutual information [bits] =  3.9888017\n",
            "iteration  43000 : loss =  0.006703445 ; Mutual information [bits] =  3.990329\n",
            "iteration  44000 : loss =  0.006181974 ; Mutual information [bits] =  3.9910812\n",
            "iteration  45000 : loss =  0.004682926 ; Mutual information [bits] =  3.9932437\n",
            "iteration  46000 : loss =  0.0056163315 ; Mutual information [bits] =  3.991897\n",
            "iteration  47000 : loss =  0.00877446 ; Mutual information [bits] =  3.987341\n",
            "iteration  48000 : loss =  0.006383126 ; Mutual information [bits] =  3.990791\n",
            "iteration  49000 : loss =  0.005961175 ; Mutual information [bits] =  3.9913998\n",
            "iteration  50000 : loss =  0.0060677603 ; Mutual information [bits] =  3.991246\n",
            "156.57 seconds\n"
          ],
          "name": "stdout"
        }
      ]
    },
    {
      "metadata": {
        "id": "jasr9ooGmeTw",
        "colab_type": "code",
        "outputId": "1e8f4f1d-ca6d-4734-dc48-cd2e08bb058c",
        "colab": {
          "base_uri": "https://localhost:8080/",
          "height": 660
        }
      },
      "cell_type": "code",
      "source": [
        "#=====================================================#\n",
        "# Visualization\n",
        "#=====================================================#\n",
        "#x,y grids\n",
        "x = np.arange(-0.1, 0.1, 0.0002)\n",
        "xx, yy = np.meshgrid(x, x)\n",
        "xg = xx.reshape(1000000,1)\n",
        "yg = yy.reshape(1000000,1)\n",
        "r = xg**2+yg**2\n",
        "xygrids = np.concatenate((xg, yg, r), axis=1)\n",
        "\n",
        "\n",
        "[constellation,receive_points,decision_regions] = sess.run([X,Y,D],feed_dict={X_tilde:training_set, G: xygrids})\n",
        "x = constellation[:, 0]\n",
        "y = constellation[:, 1]\n",
        "\n",
        "receive_x = receive_points[:, 0]\n",
        "receive_y = receive_points[:, 1]\n",
        "\n",
        "# plotting\n",
        "fig=plt.figure(figsize=(7, 7))\n",
        "ax = fig.add_subplot(2, 1, 1)\n",
        "plt.plot(totalloss)\n",
        "plt.xlabel('iteration')\n",
        "plt.ylabel('loss')\n",
        "\n",
        "fig = plt.figure(figsize=(7, 7))\n",
        "ax1 = fig.add_subplot(111)\n",
        "plt.xlabel('X')\n",
        "plt.ylabel('Y')\n",
        "ax1.scatter(x, y, c='b', marker='o')\n",
        "plt.axis('equal')\n",
        "xmax = max(abs(x))\n",
        "ymax = max(abs(y))\n",
        "max_axis = 1.2 * max(xmax, ymax)\n",
        "plt.xlim(-max_axis, max_axis)\n",
        "plt.ylim(-max_axis, max_axis)\n",
        "plt.show()\n"
      ],
      "execution_count": 0,
      "outputs": [
        {
          "output_type": "display_data",
          "data": {
            "image/png": "[encoded data removed]",
            "text/plain": [
              "<matplotlib.figure.Figure at 0x7f3d22ecc160>"
            ]
          },
          "metadata": {
            "tags": []
          }
        },
        {
          "output_type": "display_data",
          "data": {
            "image/png": "[encoded data removed]",
            "text/plain": [
              "<matplotlib.figure.Figure at 0x7f3d1fe22e48>"
            ]
          },
          "metadata": {
            "tags": []
          }
        }
      ]
    },
    {
      "metadata": {
        "id": "ATtx6VedmeUY",
        "colab_type": "code",
        "outputId": "dcba991d-9344-485a-9d6b-ab101a9a1283",
        "colab": {
          "base_uri": "https://localhost:8080/",
          "height": 428
        }
      },
      "cell_type": "code",
      "source": [
        "#=====================================================#\n",
        "# Decision regions\n",
        "#=====================================================#\n",
        "import matplotlib.cm as cm\n",
        "fig=plt.figure(figsize=(7, 7))\n",
        "plt.xlim(-max_axis, max_axis)\n",
        "plt.ylim(-max_axis, max_axis)\n",
        "z = np.argmax(decision_regions, axis=1).reshape(1000, 1000)\n",
        "plt.pcolormesh(xx, yy, z)\n",
        "cmap = cm.rainbow(np.linspace(0.0, 1.0, M))\n",
        "\n",
        "for k in range(minibatch_size):\n",
        "  index = k % M\n",
        "  plt.scatter(receive_x[k], receive_y[k], c=cmap[index], marker='.',s=50)\n",
        "\n",
        "plt.show()"
      ],
      "execution_count": 0,
      "outputs": [
        {
          "output_type": "display_data",
          "data": {
            "image/png": "[encoded data removed]",
            "text/plain": [
              "<matplotlib.figure.Figure at 0x7f3d22ea7c88>"
            ]
          },
          "metadata": {
            "tags": []
          }
        }
      ]
    }
  ]
}