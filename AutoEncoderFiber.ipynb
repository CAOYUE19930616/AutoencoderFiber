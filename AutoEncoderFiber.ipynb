{
  "nbformat": 4,
  "nbformat_minor": 0,
  "metadata": {
    "colab": {
      "name": "AutoEncoderFiber.ipynb",
      "version": "0.3.2",
      "provenance": [],
      "include_colab_link": true
    },
    "kernelspec": {
      "display_name": "Python 3",
      "language": "python",
      "name": "python3"
    }
  },
  "cells": [
    {
      "cell_type": "markdown",
      "metadata": {
        "id": "view-in-github",
        "colab_type": "text"
      },
      "source": [
        "<a href=\"https://colab.research.google.com/github/henkwymeersch/AutoencoderFiber/blob/master/AutoEncoderFiber.ipynb\" target=\"_parent\"><img src=\"https://colab.research.google.com/assets/colab-badge.svg\" alt=\"Open In Colab\"/></a>"
      ]
    },
    {
      "metadata": {
        "id": "GuDJI6Q5meSB",
        "colab_type": "text"
      },
      "cell_type": "markdown",
      "source": [
        "# Auto-encoder for a memoryless fiber-optical channel\n",
        "\n",
        "This script uses an auto-encoder (AE) for end-to-end learning of a non-linear memoryless fiber channel. The determines a good constellation and a good receiver. The achievable information rate is also computed. \n",
        "\n",
        "The system is of the form:\n",
        "$$\n",
        "x_{k+1}=x_k \\exp (j \\gamma L / K |x_k|^2) + n_k, k=0,..,K-1\n",
        "$$\n",
        "where $x_0$ is the input (a complex symbol), $\\gamma$ is the fiber nonlinearity parameter (typically around 1.2), $L$ is the fiber length, and $K$ is the number of amplification stages. The channel output is $x_K$. Finally, $n_k$ is white Gaussian noise. \n",
        "\n",
        "\n",
        "This code was is based on the paper\n",
        "\n",
        "Shen Li, Christian Häger, Nil Garcia, and Henk Wymeersch, \"Achievable Information Rates for Nonlinear Fiber Communication via End-to-end Autoencoder Learning,\" in *Proc. European Conference on Optical Communication* (2018) [arXiv:1804.07675](https://arxiv.org/pdf/1804.07675.pdf). \n",
        "\n",
        "The code was written by Christian Häger. Parts were provided by Shen Li. Integration and polishing by Henk Wymeersch. "
      ]
    },
    {
      "metadata": {
        "id": "DTSyKzaDmeSN",
        "colab_type": "code",
        "colab": {}
      },
      "cell_type": "code",
      "source": [
        "import tensorflow as tf\n",
        "import numpy as np\n",
        "import matplotlib.pyplot as plt\n",
        "import scipy.io as sio\n",
        "import math\n",
        "import time\n",
        "import sys"
      ],
      "execution_count": 0,
      "outputs": []
    },
    {
      "metadata": {
        "id": "IzWYJH3lmeSp",
        "colab_type": "code",
        "colab": {}
      },
      "cell_type": "code",
      "source": [
        "def tf_print(tmp_var):\n",
        "    init = tf.global_variables_initializer()\n",
        "    sess = tf.Session()\n",
        "    sess.run(init)\n",
        "    print(sess.run(tmp_var))\n"
      ],
      "execution_count": 0,
      "outputs": []
    },
    {
      "metadata": {
        "id": "sQzoQ8lumeS3",
        "colab_type": "code",
        "colab": {}
      },
      "cell_type": "code",
      "source": [
        "## START: these are the main parameters to set\n",
        "SNR=7              # SNR in dB\n",
        "gamma = 0          # fiber nonlinearity (set to 0 zero for AWGN)\n",
        "M = 16             # constellation size\n",
        "## END: these are the main parameters to set\n",
        "\n",
        "# main network parameters\n",
        "neurons_per_layer = 50\n",
        "tx_layers = 3\n",
        "rx_layers = 4\n",
        "\n",
        "# optimization parameters\n",
        "learning_rate = 0.0001\n",
        "iterations = 20000\n",
        "stacks = 10\n",
        "minibatch_size = stacks*M\n",
        "\n",
        "# derived channel parameters\n",
        "channel_uses = 2 # this should be 2: the fiber code will break otherwise\n",
        "assert(channel_uses==2), \"channel uses should be 2\"\n",
        "L=5000             # fiber total length\n",
        "K=50               # number of amplification stages\n",
        "EsNo_dB = SNR        # SNR [dB]\n",
        "sigma = 6.9819e-4  # N0= h*v*nsp*(G-1) sigma**2 = BW*N0 \n",
        "sigma2tot=K*sigma**2\n",
        "EsNo_r = 10**(EsNo_dB/10)\n",
        "sigma2=sigma*sigma\n",
        "Es=EsNo_r*(2*sigma2tot)\n",
        "Ess=np.sqrt(Es)    # signal amplitude\n",
        "Pin_dBm=10*np.log10(0.001*Es/(2*sigma2tot)) # transmit power in dBm"
      ],
      "execution_count": 0,
      "outputs": []
    },
    {
      "metadata": {
        "id": "8RbjEuy4LNYG",
        "colab_type": "code",
        "colab": {}
      },
      "cell_type": "code",
      "source": [
        "#=====================================================#\n",
        "# Define the componetns of the computation graph\n",
        "#=====================================================#\n",
        "\n",
        "# transmitter\n",
        "W_tx = {}\n",
        "b_tx = {}\n",
        "for NN in range(tx_layers):\n",
        "    if NN == 0:\n",
        "        in_neurons = M\n",
        "    else:\n",
        "        in_neurons = neurons_per_layer\n",
        "    if NN == tx_layers - 1:\n",
        "        out_neurons = channel_uses\n",
        "    else:\n",
        "        out_neurons = neurons_per_layer\n",
        "    W_tx[NN] = tf.Variable(tf.random_normal([in_neurons, out_neurons]))\n",
        "    b_tx[NN] = tf.Variable(tf.random_normal([1, out_neurons]))\n",
        "        \n",
        "# receiver\n",
        "W_rx = {}\n",
        "b_rx = {}\n",
        "for NN in range(rx_layers):\n",
        "    if NN == 0:\n",
        "        in_neurons = channel_uses+1\n",
        "    else:\n",
        "        in_neurons = neurons_per_layer\n",
        "    if NN == rx_layers - 1:\n",
        "        out_neurons = M\n",
        "    else:\n",
        "        out_neurons = neurons_per_layer\n",
        "    W_rx[NN] = tf.Variable(tf.random_normal([in_neurons, out_neurons]))\n",
        "    b_rx[NN] = tf.Variable(tf.random_normal([1, out_neurons]))  \n",
        "\n",
        "# the encoder\n",
        "def encoder(x):\n",
        "    for NN in range(tx_layers-1):\n",
        "        x = tf.nn.tanh(tf.matmul(x, W_tx[NN]) + b_tx[NN])\n",
        "    x = tf.matmul(x, W_tx[tx_layers-1]) + b_tx[tx_layers-1]\n",
        "    return x\n",
        "\n",
        "# the decoder\n",
        "def decoder(x):\n",
        "    for NN in range(rx_layers-1):\n",
        "        x = tf.nn.tanh(tf.matmul(x, W_rx[NN]) + b_rx[NN])\n",
        "    x = tf.nn.softmax(tf.matmul(x, W_rx[rx_layers-1]) + b_rx[rx_layers-1])\n",
        "    return x \n",
        "  \n",
        "\n",
        "# the non-dispersive fiber channel  \n",
        "def fiber_channel(x):\n",
        "    xr=x[:,0]\n",
        "    xi=x[:,1]\n",
        "    for segments in range(1,K+1):               \n",
        "        s=gamma*(xr**2+xi**2)*L/K        \n",
        "        xr=xr*tf.cos(s)-xi*tf.sin(s)\n",
        "        xi=xi*tf.cos(s)+xr*tf.sin(s)\n",
        "        xr=tf.add(xr,tf.random_normal(tf.shape(xr), mean=0.0, stddev=sigma))\n",
        "        xi=tf.add(xi,tf.random_normal(tf.shape(xi), mean=0.0, stddev=sigma))        \n",
        "    z=tf.stack([xr,xi,xr**2+xi**2]) \n",
        "    z=tf.transpose(z) \n",
        "    return z\n",
        "\n",
        "# average transmit power constraint\n",
        "def normalization(x): # E[|x|^2] = Es\n",
        "    return Ess*x / tf.sqrt(2*tf.reduce_mean(tf.square(x)))"
      ],
      "execution_count": 0,
      "outputs": []
    },
    {
      "metadata": {
        "id": "_rlBVxfWmeTH",
        "colab_type": "code",
        "colab": {}
      },
      "cell_type": "code",
      "source": [
        "#=====================================================#\n",
        "# build the computation graph\n",
        "#=====================================================#\n",
        "X_tilde = tf.placeholder('float', [minibatch_size, M]) # one-hot vectors\n",
        "X1=encoder(X_tilde)\n",
        "X = normalization(X1) # minibatch_size x channel_uses\n",
        "Y = fiber_channel(X)\n",
        "Z = decoder(Y)\n",
        "epsilon = 0.000001\n",
        "loss = -tf.reduce_mean(X_tilde*tf.log(Z+epsilon))\n",
        "MI=(np.log(M)-loss)/np.log(2)\n",
        "optimizer = tf.train.AdamOptimizer(learning_rate)\n",
        "train = optimizer.minimize(loss)"
      ],
      "execution_count": 0,
      "outputs": []
    },
    {
      "metadata": {
        "id": "cYP38e2pmeTa",
        "colab_type": "code",
        "colab": {
          "base_uri": "https://localhost:8080/",
          "height": 399
        },
        "outputId": "bfc6c126-1a73-43fa-8559-88c90217b1b6"
      },
      "cell_type": "code",
      "source": [
        "#=====================================================#\n",
        "# parameter training\n",
        "#=====================================================#\n",
        "start_time = time.time()\n",
        "unitmatrix = np.eye(M)  \n",
        "training_set = np.tile(unitmatrix, [stacks, 1])\n",
        "init_op = tf.global_variables_initializer()\n",
        "sess = tf.Session()\n",
        "sess.run(init_op)\n",
        "totalloss=[]\n",
        "for i in range(1, iterations+1):\n",
        "    _, loss_tmp, MI_tmp = sess.run([train, loss, MI], feed_dict={X_tilde: training_set})\n",
        "    totalloss=np.append(totalloss, loss_tmp)\n",
        "    if i%1000==0 or i==1:\n",
        "        print('iter ', i, ': loss = ', loss_tmp, '; Mutual information [bits] = ', MI_tmp)        \n",
        "elapsed = time.time() - start_time\n",
        "print(\"{0:.2f} seconds\".format(elapsed))"
      ],
      "execution_count": 66,
      "outputs": [
        {
          "output_type": "stream",
          "text": [
            "iter  1 : loss =  0.6177772 ; Mutual information [bits] =  3.1087356\n",
            "iter  1000 : loss =  0.12446897 ; Mutual information [bits] =  3.820429\n",
            "iter  2000 : loss =  0.09142071 ; Mutual information [bits] =  3.8681078\n",
            "iter  3000 : loss =  0.07501356 ; Mutual information [bits] =  3.8917782\n",
            "iter  4000 : loss =  0.07490943 ; Mutual information [bits] =  3.8919284\n",
            "iter  5000 : loss =  0.06456481 ; Mutual information [bits] =  3.9068527\n",
            "iter  6000 : loss =  0.06848822 ; Mutual information [bits] =  3.9011924\n",
            "iter  7000 : loss =  0.06700268 ; Mutual information [bits] =  3.9033353\n",
            "iter  8000 : loss =  0.06342214 ; Mutual information [bits] =  3.9085011\n",
            "iter  9000 : loss =  0.056899406 ; Mutual information [bits] =  3.9179115\n",
            "iter  10000 : loss =  0.067568704 ; Mutual information [bits] =  3.9025187\n",
            "iter  11000 : loss =  0.06495646 ; Mutual information [bits] =  3.9062877\n",
            "iter  12000 : loss =  0.064243004 ; Mutual information [bits] =  3.9073167\n",
            "iter  13000 : loss =  0.06574992 ; Mutual information [bits] =  3.905143\n",
            "iter  14000 : loss =  0.059255324 ; Mutual information [bits] =  3.9145126\n",
            "iter  15000 : loss =  0.06309281 ; Mutual information [bits] =  3.9089763\n",
            "iter  16000 : loss =  0.069398016 ; Mutual information [bits] =  3.89988\n",
            "iter  17000 : loss =  0.067862354 ; Mutual information [bits] =  3.9020953\n",
            "iter  18000 : loss =  0.0677103 ; Mutual information [bits] =  3.9023144\n",
            "iter  19000 : loss =  0.0693591 ; Mutual information [bits] =  3.899936\n",
            "iter  20000 : loss =  0.068138495 ; Mutual information [bits] =  3.9016967\n",
            "51.43 seconds\n"
          ],
          "name": "stdout"
        }
      ]
    },
    {
      "metadata": {
        "id": "jasr9ooGmeTw",
        "colab_type": "code",
        "colab": {
          "base_uri": "https://localhost:8080/",
          "height": 664
        },
        "outputId": "3383ca3a-dccc-487a-9313-6f08941cc4df"
      },
      "cell_type": "code",
      "source": [
        "#=====================================================#\n",
        "# Visualization\n",
        "#=====================================================#\n",
        "constellation = sess.run(X, feed_dict={X_tilde: training_set})\n",
        "x = constellation[:, 0]\n",
        "y = constellation[:, 1]\n",
        "\n",
        "# plotting\n",
        "fig=plt.figure(figsize=(7, 7))\n",
        "ax = fig.add_subplot(2, 1, 1)\n",
        "plt.plot(totalloss)\n",
        "plt.xlabel('iteration')\n",
        "plt.ylabel('loss')\n",
        "ax.set_xscale('log')\n",
        "ax.set_yscale('log')\n",
        "\n",
        "fig = plt.figure(figsize=(7, 7))\n",
        "ax1 = fig.add_subplot(111)\n",
        "plt.xlabel('X')\n",
        "plt.ylabel('Y')\n",
        "ax1.scatter(x, y, c='b', marker='o')\n",
        "plt.axis('equal')\n",
        "xmax = max(abs(x))\n",
        "ymax = max(abs(y))\n",
        "max_axis = 1.2 * max(xmax, ymax)\n",
        "plt.xlim(-max_axis, max_axis)\n",
        "plt.ylim(-max_axis, max_axis)\n",
        "\n",
        "\n",
        "# Save the variables to disk.\n",
        "# save_path = saver2.save(sess, \"tmp/showRx2.ckpt\")\n",
        "# np.savetxt(\"x2.txt\", x)\n",
        "# np.savetxt(\"y2.txt\", y)\n",
        "plt.show()"
      ],
      "execution_count": 67,
      "outputs": [
        {
          "output_type": "display_data",
          "data": {
            "image/png": "[encoded data removed]",
            "text/plain": [
              "<matplotlib.figure.Figure at 0x7f015f79f860>"
            ]
          },
          "metadata": {
            "tags": []
          }
        },
        {
          "output_type": "display_data",
          "data": {
            "image/png": "[encoded data removed]",
            "text/plain": [
              "<matplotlib.figure.Figure at 0x7f015f79a2e8>"
            ]
          },
          "metadata": {
            "tags": []
          }
        }
      ]
    },
    {
      "metadata": {
        "id": "ATtx6VedmeUY",
        "colab_type": "code",
        "colab": {}
      },
      "cell_type": "code",
      "source": [
        ""
      ],
      "execution_count": 0,
      "outputs": []
    }
  ]
}