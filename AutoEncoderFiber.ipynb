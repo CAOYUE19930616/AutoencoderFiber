{
  "nbformat": 4,
  "nbformat_minor": 0,
  "metadata": {
    "colab": {
      "name": "AutoEncoderFiber.ipynb",
      "version": "0.3.2",
      "provenance": [],
      "collapsed_sections": [],
      "include_colab_link": true
    },
    "kernelspec": {
      "display_name": "Python 3",
      "language": "python",
      "name": "python3"
    }
  },
  "cells": [
    {
      "cell_type": "markdown",
      "metadata": {
        "id": "view-in-github",
        "colab_type": "text"
      },
      "source": [
        "<a href=\"https://colab.research.google.com/github/henkwymeersch/AutoencoderFiber/blob/master/AutoEncoderFiber.ipynb\" target=\"_parent\"><img src=\"https://colab.research.google.com/assets/colab-badge.svg\" alt=\"Open In Colab\"/></a>"
      ]
    },
    {
      "metadata": {
        "id": "GuDJI6Q5meSB",
        "colab_type": "text"
      },
      "cell_type": "markdown",
      "source": [
        "# Auto-encoder for a memoryless fiber-optic channel\n",
        "\n",
        "This script uses an auto-encoder (AE) for end-to-end learning of a non-linear memoryless fiber channel. The determines a good constellation and a good receiver. The achievable information rate is also computed. \n",
        "\n",
        "The system is of the form:\n",
        "$$\n",
        "x_{k+1}=x_k \\exp (j \\gamma L / K |x_k|^2) + n_k, k=0,..,K-1\n",
        "$$\n",
        "where $x_0$ is the input (a complex symbol), $\\gamma$ is the fiber nonlinearity parameter (typically around 1.2), $L$ is the fiber length, and $K$ is the number of amplification stages. The channel output is $x_K$. Finally, $n_k$ is white Gaussian noise. \n",
        "\n",
        "\n",
        "This code was is based on the paper\n",
        "\n",
        "Shen Li, Christian Häger, Nil Garcia, and Henk Wymeersch, \"Achievable Information Rates for Nonlinear Fiber Communication via End-to-end Autoencoder Learning,\" in *Proc. European Conference on Optical Communication* (2018) [arXiv:1804.07675](https://arxiv.org/pdf/1804.07675.pdf). \n",
        "\n",
        "The code was written by Christian Häger. Parts were provided by Shen Li. Integration and polishing by Henk Wymeersch. \n",
        "\n",
        "Remaining issues:\n",
        "*   returns NaN for too high input power\n",
        "\n",
        "\n"
      ]
    },
    {
      "metadata": {
        "id": "DTSyKzaDmeSN",
        "colab_type": "code",
        "colab": {}
      },
      "cell_type": "code",
      "source": [
        "import tensorflow as tf\n",
        "import numpy as np\n",
        "import matplotlib.pyplot as plt\n",
        "import scipy.io as sio\n",
        "import math\n",
        "import time\n",
        "import sys"
      ],
      "execution_count": 0,
      "outputs": []
    },
    {
      "metadata": {
        "id": "IzWYJH3lmeSp",
        "colab_type": "code",
        "colab": {}
      },
      "cell_type": "code",
      "source": [
        "def tf_print(tmp_var):\n",
        "    init = tf.global_variables_initializer()\n",
        "    sess = tf.Session()\n",
        "    sess.run(init)\n",
        "    print(sess.run(tmp_var))\n"
      ],
      "execution_count": 0,
      "outputs": []
    },
    {
      "metadata": {
        "id": "sQzoQ8lumeS3",
        "colab_type": "code",
        "outputId": "cd6faf3f-50f3-42ea-f722-3bff8a90feac",
        "colab": {
          "base_uri": "https://localhost:8080/",
          "height": 51
        }
      },
      "cell_type": "code",
      "source": [
        "## START: these are the main parameters to set\n",
        "P_in_dBm=-5              # input power in dBm\n",
        "gamma = 1.27             # fiber nonlinearity (set to 0 zero for AWGN or 1.27 for a nonlinear channel)\n",
        "M = 16                    # constellation size\n",
        "\n",
        "# main network parameters and optimization parameters (to be modified for performance improvements)\n",
        "neurons_per_layer = 50 \n",
        "tx_layers = 2\n",
        "rx_layers = 3\n",
        "learning_rate = 0.001\n",
        "iterations = 50000\n",
        "stacks = 20\n",
        "minibatch_size = stacks*M\n",
        "## END: these are the main parameters to set\n",
        "\n",
        "\n",
        "# derived channel parameters\n",
        "channel_uses = 2 # this should be 2: the fiber code will break otherwise\n",
        "assert(channel_uses==2), \"channel uses should be 2\"\n",
        "L=2000             # fiber total length\n",
        "K=20               # number of amplification stages (more layers requires more time)\n",
        "sigma = 3.8505e-4*np.sqrt(2)  # N0= h*v*nsp*(G-1) sigma**2 = BW*N0 \n",
        "sigma2tot=K*sigma**2\n",
        "P_in=10**(P_in_dBm/10)*0.001\n",
        "Ess=np.sqrt(P_in)\n",
        "SNR=Ess**2/(sigma2tot)\n",
        "SNR_dB=10*np.log(SNR)"
      ],
      "execution_count": 0,
      "outputs": [
        {
          "output_type": "stream",
          "text": [
            "39.763474443649336\n",
            "0.04016092628413843\n"
          ],
          "name": "stdout"
        }
      ]
    },
    {
      "metadata": {
        "id": "8RbjEuy4LNYG",
        "colab_type": "code",
        "colab": {}
      },
      "cell_type": "code",
      "source": [
        "#=====================================================#\n",
        "# Define the components of the computation graph\n",
        "#=====================================================#\n",
        "initializer = tf.contrib.layers.xavier_initializer()\n",
        "# transmitter\n",
        "W_tx = {}\n",
        "b_tx = {}\n",
        "for NN in range(tx_layers):\n",
        "    if NN == 0:\n",
        "        in_neurons = M\n",
        "    else:\n",
        "        in_neurons = neurons_per_layer\n",
        "    if NN == tx_layers - 1:\n",
        "        out_neurons = channel_uses\n",
        "    else:\n",
        "        out_neurons = neurons_per_layer\n",
        "    W_tx[NN] = tf.Variable(initializer([in_neurons, out_neurons]))\n",
        "    b_tx[NN] = tf.Variable(initializer([1, out_neurons]))\n",
        "        \n",
        "# receiver\n",
        "W_rx = {}\n",
        "b_rx = {}\n",
        "for NN in range(rx_layers):\n",
        "    if NN == 0:\n",
        "        in_neurons = channel_uses+1\n",
        "    else:\n",
        "        in_neurons = neurons_per_layer\n",
        "    if NN == rx_layers - 1:\n",
        "        out_neurons = M\n",
        "    else:\n",
        "        out_neurons = neurons_per_layer\n",
        "    W_rx[NN] = tf.Variable(initializer([in_neurons, out_neurons]))\n",
        "    b_rx[NN] = tf.Variable(initializer([1, out_neurons]))  \n",
        "\n",
        "# the encoder\n",
        "def encoder(x):\n",
        "    for NN in range(tx_layers-1):\n",
        "        x = tf.nn.tanh(tf.matmul(x, W_tx[NN]) + b_tx[NN])\n",
        "    x = tf.matmul(x, W_tx[tx_layers-1]) + b_tx[tx_layers-1]\n",
        "    return x\n",
        "\n",
        "# the decoder\n",
        "def decoder(x):\n",
        "    for NN in range(rx_layers-1):\n",
        "        x = tf.nn.tanh(tf.matmul(x, W_rx[NN]) + b_rx[NN])\n",
        "    x = tf.nn.softmax(tf.matmul(x, W_rx[rx_layers-1]) + b_rx[rx_layers-1])\n",
        "    return x\n",
        "\n",
        "# the non-dispersive fiber channel  \n",
        "def fiber_channel(x):\n",
        "    xr=x[:,0]\n",
        "    xi=x[:,1]\n",
        "    for segments in range(1,K+1):               \n",
        "        s=gamma*(xr**2+xi**2)*L/K        \n",
        "        xr=xr*tf.cos(s)-xi*tf.sin(s)\n",
        "        xi=xi*tf.cos(s)+xr*tf.sin(s)\n",
        "        xr=tf.add(xr,tf.random_normal(tf.shape(xr), mean=0.0, stddev=sigma))\n",
        "        xi=tf.add(xi,tf.random_normal(tf.shape(xi), mean=0.0, stddev=sigma))        \n",
        "    z=tf.stack([xr,xi,xr**2+xi**2]) \n",
        "    z=tf.transpose(z) \n",
        "    return z\n",
        "  \n",
        "# average transmit power constraint\n",
        "def normalization(x): # E[|x|^2] = Es\n",
        "    return Ess*x / tf.sqrt(2*tf.reduce_mean(tf.square(x)))"
      ],
      "execution_count": 0,
      "outputs": []
    },
    {
      "metadata": {
        "id": "_rlBVxfWmeTH",
        "colab_type": "code",
        "colab": {}
      },
      "cell_type": "code",
      "source": [
        "#=====================================================#\n",
        "# build the computation graph\n",
        "#=====================================================#\n",
        "X_tilde = tf.placeholder('float', [minibatch_size, M]) # one-hot vectors\n",
        "X1=encoder(X_tilde)\n",
        "X = normalization(X1) # minibatch_size x channel_uses\n",
        "Y = fiber_channel(X)\n",
        "Z = decoder(Y)\n",
        "epsilon = 0.000001\n",
        "loss = -tf.reduce_mean(X_tilde*tf.log(Z+epsilon))\n",
        "MI=(np.log(M)-loss)/np.log(2)\n",
        "optimizer = tf.train.AdamOptimizer(learning_rate)\n",
        "train = optimizer.minimize(loss)"
      ],
      "execution_count": 0,
      "outputs": []
    },
    {
      "metadata": {
        "id": "cYP38e2pmeTa",
        "colab_type": "code",
        "outputId": "3bb97637-4a33-4dc2-f3aa-76a61c168e2d",
        "colab": {
          "base_uri": "https://localhost:8080/",
          "height": 901
        }
      },
      "cell_type": "code",
      "source": [
        "#=====================================================#\n",
        "# parameter training\n",
        "#=====================================================#\n",
        "start_time = time.time()\n",
        "unitmatrix = np.eye(M)  \n",
        "training_set = np.tile(unitmatrix, [stacks, 1])\n",
        "init_op = tf.global_variables_initializer()\n",
        "sess = tf.Session()\n",
        "sess.run(init_op)\n",
        "MI_tmp=0\n",
        "totalloss=[]\n",
        "for i in range(1, iterations+1):\n",
        "    _, loss_tmp, MI_tmp = sess.run([train, loss, MI], feed_dict={X_tilde: training_set})\n",
        "    totalloss=np.append(totalloss, loss_tmp)\n",
        "    if i%1000==0 or i==1:\n",
        "        print('iteration ', i, ': loss = ', loss_tmp, '; Mutual information [bits] = ', MI_tmp)        \n",
        "elapsed = time.time() - start_time\n",
        "print(\"{0:.2f} seconds\".format(elapsed))"
      ],
      "execution_count": 0,
      "outputs": [
        {
          "output_type": "stream",
          "text": [
            "iteration  1 : loss =  0.17936489 ; Mutual information [bits] =  3.741231\n",
            "iteration  1000 : loss =  0.068749465 ; Mutual information [bits] =  3.9008155\n",
            "iteration  2000 : loss =  0.052281212 ; Mutual information [bits] =  3.9245741\n",
            "iteration  3000 : loss =  0.052909426 ; Mutual information [bits] =  3.923668\n",
            "iteration  4000 : loss =  0.051405363 ; Mutual information [bits] =  3.9258375\n",
            "iteration  5000 : loss =  0.044679895 ; Mutual information [bits] =  3.9355404\n",
            "iteration  6000 : loss =  0.036399446 ; Mutual information [bits] =  3.9474869\n",
            "iteration  7000 : loss =  0.01798761 ; Mutual information [bits] =  3.974049\n",
            "iteration  8000 : loss =  0.008968557 ; Mutual information [bits] =  3.987061\n",
            "iteration  9000 : loss =  0.012285163 ; Mutual information [bits] =  3.9822762\n",
            "iteration  10000 : loss =  0.011951985 ; Mutual information [bits] =  3.982757\n",
            "iteration  11000 : loss =  0.0074226535 ; Mutual information [bits] =  3.9892912\n",
            "iteration  12000 : loss =  0.0055623283 ; Mutual information [bits] =  3.9919753\n",
            "iteration  13000 : loss =  0.0061496696 ; Mutual information [bits] =  3.9911277\n",
            "iteration  14000 : loss =  0.007800373 ; Mutual information [bits] =  3.9887464\n",
            "iteration  15000 : loss =  0.011266956 ; Mutual information [bits] =  3.983745\n",
            "iteration  16000 : loss =  0.009524777 ; Mutual information [bits] =  3.9862585\n",
            "iteration  17000 : loss =  0.009380444 ; Mutual information [bits] =  3.986467\n",
            "iteration  18000 : loss =  0.008210756 ; Mutual information [bits] =  3.9881544\n",
            "iteration  19000 : loss =  0.007254999 ; Mutual information [bits] =  3.9895332\n",
            "iteration  20000 : loss =  0.0076370165 ; Mutual information [bits] =  3.988982\n",
            "iteration  21000 : loss =  0.008366273 ; Mutual information [bits] =  3.9879298\n",
            "iteration  22000 : loss =  0.00623618 ; Mutual information [bits] =  3.9910033\n",
            "iteration  23000 : loss =  0.0076166466 ; Mutual information [bits] =  3.9890113\n",
            "iteration  24000 : loss =  0.010004889 ; Mutual information [bits] =  3.985566\n",
            "iteration  25000 : loss =  0.0072572962 ; Mutual information [bits] =  3.98953\n",
            "iteration  26000 : loss =  0.00785318 ; Mutual information [bits] =  3.98867\n",
            "iteration  27000 : loss =  0.010591613 ; Mutual information [bits] =  3.9847198\n",
            "iteration  28000 : loss =  0.005098666 ; Mutual information [bits] =  3.9926443\n",
            "iteration  29000 : loss =  0.006236845 ; Mutual information [bits] =  3.991002\n",
            "iteration  30000 : loss =  0.0059968783 ; Mutual information [bits] =  3.9913483\n",
            "iteration  31000 : loss =  0.0058143255 ; Mutual information [bits] =  3.9916117\n",
            "iteration  32000 : loss =  0.006988822 ; Mutual information [bits] =  3.9899173\n",
            "iteration  33000 : loss =  0.0054590744 ; Mutual information [bits] =  3.992124\n",
            "iteration  34000 : loss =  0.0050939573 ; Mutual information [bits] =  3.9926507\n",
            "iteration  35000 : loss =  0.010551727 ; Mutual information [bits] =  3.984777\n",
            "iteration  36000 : loss =  0.0047889813 ; Mutual information [bits] =  3.993091\n",
            "iteration  37000 : loss =  0.0059213107 ; Mutual information [bits] =  3.9914572\n",
            "iteration  38000 : loss =  0.0067532407 ; Mutual information [bits] =  3.990257\n",
            "iteration  39000 : loss =  0.006817187 ; Mutual information [bits] =  3.990165\n",
            "iteration  40000 : loss =  0.005707236 ; Mutual information [bits] =  3.9917662\n",
            "iteration  41000 : loss =  0.007838668 ; Mutual information [bits] =  3.988691\n",
            "iteration  42000 : loss =  0.007721433 ; Mutual information [bits] =  3.9888604\n",
            "iteration  43000 : loss =  0.0052342513 ; Mutual information [bits] =  3.9924486\n",
            "iteration  44000 : loss =  0.0033280454 ; Mutual information [bits] =  3.9951985\n",
            "iteration  45000 : loss =  0.007532948 ; Mutual information [bits] =  3.9891324\n",
            "iteration  46000 : loss =  0.0063883215 ; Mutual information [bits] =  3.9907835\n",
            "iteration  47000 : loss =  0.0034908087 ; Mutual information [bits] =  3.9949636\n",
            "iteration  48000 : loss =  0.0061608395 ; Mutual information [bits] =  3.991112\n",
            "iteration  49000 : loss =  0.0061989515 ; Mutual information [bits] =  3.991057\n",
            "iteration  50000 : loss =  0.008076141 ; Mutual information [bits] =  3.9883485\n",
            "135.16 seconds\n"
          ],
          "name": "stdout"
        }
      ]
    },
    {
      "metadata": {
        "id": "jasr9ooGmeTw",
        "colab_type": "code",
        "outputId": "8a6708fc-4985-4992-bd4a-7c3179be7f27",
        "colab": {
          "base_uri": "https://localhost:8080/",
          "height": 660
        }
      },
      "cell_type": "code",
      "source": [
        "#=====================================================#\n",
        "# Visualization\n",
        "#=====================================================#\n",
        "constellation = sess.run(X, feed_dict={X_tilde: training_set})\n",
        "x = constellation[:, 0]\n",
        "y = constellation[:, 1]\n",
        "\n",
        "# plotting\n",
        "fig=plt.figure(figsize=(7, 7))\n",
        "ax = fig.add_subplot(2, 1, 1)\n",
        "plt.plot(totalloss)\n",
        "plt.xlabel('iteration')\n",
        "plt.ylabel('loss')\n",
        "\n",
        "fig = plt.figure(figsize=(7, 7))\n",
        "ax1 = fig.add_subplot(111)\n",
        "plt.xlabel('X')\n",
        "plt.ylabel('Y')\n",
        "ax1.scatter(x, y, c='b', marker='o')\n",
        "plt.axis('equal')\n",
        "xmax = max(abs(x))\n",
        "ymax = max(abs(y))\n",
        "max_axis = 1.2 * max(xmax, ymax)\n",
        "plt.xlim(-max_axis, max_axis)\n",
        "plt.ylim(-max_axis, max_axis)\n",
        "plt.show()"
      ],
      "execution_count": 0,
      "outputs": [
        {
          "output_type": "display_data",
          "data": {
            "image/png": "[encoded data removed]",
            "text/plain": [
              "<matplotlib.figure.Figure at 0x7ff0fbbad0f0>"
            ]
          },
          "metadata": {
            "tags": []
          }
        },
        {
          "output_type": "display_data",
          "data": {
            "image/png": "[encoded data removed]",
            "text/plain": [
              "<matplotlib.figure.Figure at 0x7ff0f2e61ef0>"
            ]
          },
          "metadata": {
            "tags": []
          }
        }
      ]
    },
    {
      "metadata": {
        "id": "ATtx6VedmeUY",
        "colab_type": "code",
        "colab": {}
      },
      "cell_type": "code",
      "source": [
        ""
      ],
      "execution_count": 0,
      "outputs": []
    }
  ]
}